{
 "cells": [
  {
   "cell_type": "code",
   "execution_count": 6,
   "id": "3cd7d124",
   "metadata": {},
   "outputs": [
    {
     "name": "stdout",
     "output_type": "stream",
     "text": [
      "enter the number to find the factorial 5\n",
      "The factorial of 5 is 120\n"
     ]
    }
   ],
   "source": [
    "#1.\tWrite a Python Program to Find the Factorial of a Number?\n",
    "num=int(input(\"enter the number to find the factorial \"))\n",
    "sum=1\n",
    "for i in range(1,num+1):\n",
    "    sum=sum*i\n",
    "print(\"The factorial of {} is {}\".format(num,sum))"
   ]
  },
  {
   "cell_type": "code",
   "execution_count": 8,
   "id": "30478e3b",
   "metadata": {},
   "outputs": [
    {
     "name": "stdout",
     "output_type": "stream",
     "text": [
      "enter the number for displaying the multiplication number10\n",
      "10*1=10\n",
      "10*2=20\n",
      "10*3=30\n",
      "10*4=40\n",
      "10*5=50\n",
      "10*6=60\n",
      "10*7=70\n",
      "10*8=80\n",
      "10*9=90\n",
      "10*10=100\n"
     ]
    }
   ],
   "source": [
    "#2.\tWrite a Python Program to Display the multiplication Table?\n",
    "num=int(input(\"enter the number for displaying the multiplication number \"))\n",
    "for i in range(1,11):\n",
    "    print(\"{}*{}={}\".format(num,i,num*i))"
   ]
  },
  {
   "cell_type": "code",
   "execution_count": 23,
   "id": "1315b16b",
   "metadata": {},
   "outputs": [
    {
     "name": "stdout",
     "output_type": "stream",
     "text": [
      "enter a number to display fibonacci series10\n",
      "1\n",
      "1\n",
      "2\n",
      "3\n",
      "5\n",
      "8\n",
      "13\n",
      "21\n",
      "34\n",
      "55\n"
     ]
    }
   ],
   "source": [
    "#3.\tWrite a Python Program to Print the Fibonacci sequence?\n",
    "num=int(input(\"enter a number to display fibonacci series\"))\n",
    "i=0\n",
    "j=1\n",
    "for k in range(num):\n",
    "    sum=i+j\n",
    "    j=i\n",
    "    i=sum\n",
    "    print(i)"
   ]
  },
  {
   "cell_type": "code",
   "execution_count": 85,
   "id": "d23c79cc",
   "metadata": {},
   "outputs": [
    {
     "name": "stdout",
     "output_type": "stream",
     "text": [
      "enter a number to check if it is armstrong number or not  370\n",
      "370 is an armstrong number\n"
     ]
    }
   ],
   "source": [
    "#4.\tWrite a Python Program to Check Armstrong Number?\n",
    "num=int(input(\"enter a number to check if it is armstrong number or not  \"))\n",
    "cp_num=num\n",
    "sum=0\n",
    "digit=0\n",
    "n=len(str(num))\n",
    "for i in range(1,n+1):\n",
    "    if num < 10:\n",
    "        digit=num\n",
    "    else:\n",
    "        digit=num%10\n",
    "        num=int(num/10)\n",
    "    sum=sum+(digit**n)\n",
    "if (cp_num == sum):\n",
    "    print(\"{} is an armstrong number\".format(cp_num))\n",
    "else:\n",
    "    print(\"{} is not an armstrong number\".format(cp_num))"
   ]
  },
  {
   "cell_type": "code",
   "execution_count": 86,
   "id": "ca7fc20c",
   "metadata": {},
   "outputs": [
    {
     "name": "stdout",
     "output_type": "stream",
     "text": [
      "enter the start interval to display armstrong numbers 1\n",
      "enter the end interval to display armstrong numbers 10000\n",
      "1\n",
      "2\n",
      "3\n",
      "4\n",
      "5\n",
      "6\n",
      "7\n",
      "8\n",
      "9\n",
      "153\n",
      "370\n",
      "371\n",
      "407\n",
      "1634\n",
      "8208\n",
      "9474\n"
     ]
    }
   ],
   "source": [
    "#5.\tWrite a Python Program to Find Armstrong Number in an Interval?\n",
    "num1=int(input(\"enter the start interval to display armstrong numbers \"))\n",
    "num2=int(input(\"enter the end interval to display armstrong numbers \"))\n",
    "\n",
    "for i in range(num1,num2+1):\n",
    "    num=i\n",
    "    sum=0\n",
    "    digit=0\n",
    "    n=len(str(num))\n",
    "    for j in range(1,n+1):\n",
    "        if num < 10:\n",
    "            digit=num\n",
    "        else:\n",
    "            digit=num%10\n",
    "            num=int(num/10)\n",
    "        sum=sum+(digit**n)\n",
    "    if (i == sum):\n",
    "        print(i)"
   ]
  },
  {
   "cell_type": "code",
   "execution_count": 88,
   "id": "9be9721a",
   "metadata": {},
   "outputs": [
    {
     "name": "stdout",
     "output_type": "stream",
     "text": [
      "enter the number to calculate the sum of natural numbers 5\n",
      "The sum is 15\n"
     ]
    }
   ],
   "source": [
    "#6.\tWrite a Python Program to Find the Sum of Natural Numbers?\n",
    "#using formula\n",
    "n=int(input(\"enter the number to calculate the sum of natural numbers \"))\n",
    "sum=int(n*(n+1)/2)\n",
    "print(\"The sum is\",sum)"
   ]
  },
  {
   "cell_type": "code",
   "execution_count": 89,
   "id": "41463347",
   "metadata": {},
   "outputs": [
    {
     "name": "stdout",
     "output_type": "stream",
     "text": [
      "enter the number to calculate the sum of natural numbers 5\n",
      "The sum is 15\n"
     ]
    }
   ],
   "source": [
    "#using loop\n",
    "n=int(input(\"enter the number to calculate the sum of natural numbers \"))\n",
    "sum=0\n",
    "for i in range(1,n+1):\n",
    "    sum=sum+i\n",
    "print(\"The sum is\",sum)"
   ]
  },
  {
   "cell_type": "code",
   "execution_count": null,
   "id": "2dcd1ac6",
   "metadata": {},
   "outputs": [],
   "source": []
  }
 ],
 "metadata": {
  "kernelspec": {
   "display_name": "Python 3",
   "language": "python",
   "name": "python3"
  },
  "language_info": {
   "codemirror_mode": {
    "name": "ipython",
    "version": 3
   },
   "file_extension": ".py",
   "mimetype": "text/x-python",
   "name": "python",
   "nbconvert_exporter": "python",
   "pygments_lexer": "ipython3",
   "version": "3.8.8"
  }
 },
 "nbformat": 4,
 "nbformat_minor": 5
}
