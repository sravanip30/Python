{
 "cells": [
  {
   "cell_type": "code",
   "execution_count": 12,
   "id": "c8cc5ad9",
   "metadata": {},
   "outputs": [
    {
     "name": "stdout",
     "output_type": "stream",
     "text": [
      "enter a number to display fibonacci series 10\n",
      "0\n",
      "1\n",
      "1\n",
      "2\n",
      "3\n",
      "5\n",
      "8\n",
      "13\n",
      "21\n"
     ]
    }
   ],
   "source": [
    "#1.\tWrite a Python Program to Display Fibonacci Sequence Using Recursion?\n",
    "def fib(num):\n",
    "    if num<=1:\n",
    "        return 0\n",
    "    if num == 2:\n",
    "        return 1\n",
    "    return(fib(num-1)+fib(num-2)) \n",
    "        \n",
    "num =int(input(\"enter a number to display fibonacci series \"))\n",
    "for i in range(1,num):\n",
    "    print(fib(i))"
   ]
  },
  {
   "cell_type": "code",
   "execution_count": 25,
   "id": "dee0476b",
   "metadata": {},
   "outputs": [
    {
     "name": "stdout",
     "output_type": "stream",
     "text": [
      "enter a number to find the factorial 5\n",
      "120\n"
     ]
    }
   ],
   "source": [
    "#2.\tWrite a Python Program to Find Factorial of Number Using Recursion?\n",
    "num =int(input(\"enter a number to find the factorial \"))\n",
    "if num <=0:\n",
    "    print(\"please enter a number greater than 0\")\n",
    "else:\n",
    "    print(fact(num))\n",
    "def fact(num):\n",
    "    if num==1:\n",
    "        return 1\n",
    "    return(num*fact(num-1))\n"
   ]
  },
  {
   "cell_type": "code",
   "execution_count": 28,
   "id": "30295e04",
   "metadata": {},
   "outputs": [
    {
     "name": "stdout",
     "output_type": "stream",
     "text": [
      "enter you weight in kgs 62\n",
      "enter your height in meters 1.5\n",
      "Your BMI is 27.555555555555557\n"
     ]
    }
   ],
   "source": [
    "#3.\tWrite a Python Program to calculate your Body Mass Index?\n",
    "weight=int(input(\"enter you weight in kgs \"))\n",
    "height=float(input(\"enter your height in meters \"))\n",
    "BMI=weight/(height*height)\n",
    "print(\"Your BMI is\", BMI)"
   ]
  },
  {
   "cell_type": "code",
   "execution_count": 32,
   "id": "99a52e3b",
   "metadata": {},
   "outputs": [
    {
     "name": "stdout",
     "output_type": "stream",
     "text": [
      "enter a number to calculate log 10\n",
      "2.302585092994046\n"
     ]
    }
   ],
   "source": [
    "#4.\tWrite a Python Program to calculate the natural logarithm of any number?\n",
    "import math\n",
    "num=int(input(\"enter a number to calculate log \"))\n",
    "print(math.log(num))"
   ]
  },
  {
   "cell_type": "code",
   "execution_count": 37,
   "id": "c3dd40c2",
   "metadata": {},
   "outputs": [
    {
     "name": "stdout",
     "output_type": "stream",
     "text": [
      "enter the value of n to calculate cubes of first n natural numbers5\n",
      "The cube sum of first n natural numbers is 225\n"
     ]
    }
   ],
   "source": [
    "#5.\tWrite a Python Program for cube sum of first n natural numbers?\n",
    "n=int(input(\"enter the value of n to calculate cubes of first n natural numbers\"))\n",
    "sum=((n*(n+1))/2)\n",
    "print(\"The cube sum of first n natural numbers is\", int(sum*sum))"
   ]
  },
  {
   "cell_type": "code",
   "execution_count": null,
   "id": "877bd296",
   "metadata": {},
   "outputs": [],
   "source": [
    "\n",
    "\n",
    "\n"
   ]
  }
 ],
 "metadata": {
  "kernelspec": {
   "display_name": "Python 3",
   "language": "python",
   "name": "python3"
  },
  "language_info": {
   "codemirror_mode": {
    "name": "ipython",
    "version": 3
   },
   "file_extension": ".py",
   "mimetype": "text/x-python",
   "name": "python",
   "nbconvert_exporter": "python",
   "pygments_lexer": "ipython3",
   "version": "3.8.8"
  }
 },
 "nbformat": 4,
 "nbformat_minor": 5
}
