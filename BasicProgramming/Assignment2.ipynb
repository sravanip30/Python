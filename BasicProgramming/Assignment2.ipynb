{
 "cells": [
  {
   "cell_type": "code",
   "execution_count": 2,
   "id": "e0ca672b",
   "metadata": {},
   "outputs": [
    {
     "name": "stdout",
     "output_type": "stream",
     "text": [
      "enter number of kilometers10\n",
      "The number of miles are 6.2137119\n"
     ]
    }
   ],
   "source": [
    "#1.\tWrite a Python program to convert kilometers to miles?\n",
    "km_number=int(input(\"enter number of kilometers\"))\n",
    "miles=km_number*0.62137119\n",
    "print(\"The number of miles are\",miles)"
   ]
  },
  {
   "cell_type": "code",
   "execution_count": 5,
   "id": "b02af9bb",
   "metadata": {},
   "outputs": [
    {
     "name": "stdout",
     "output_type": "stream",
     "text": [
      "enter temperature in Celsius10\n",
      "The temperature in Fahrenheit is 50.0\n"
     ]
    }
   ],
   "source": [
    "#2.\tWrite a Python program to convert Celsius to Fahrenheit?\n",
    "celsius_temp=int(input(\"enter temperature in Celsius\"))\n",
    "Fahrenheit=(celsius_temp*1.8)+32\n",
    "print(\"The temperature in Fahrenheit is\",Fahrenheit)"
   ]
  },
  {
   "cell_type": "code",
   "execution_count": 6,
   "id": "d6c923eb",
   "metadata": {},
   "outputs": [
    {
     "name": "stdout",
     "output_type": "stream",
     "text": [
      "enter a year2022\n",
      "enter a month2\n",
      "   February 2022\n",
      "Mo Tu We Th Fr Sa Su\n",
      "    1  2  3  4  5  6\n",
      " 7  8  9 10 11 12 13\n",
      "14 15 16 17 18 19 20\n",
      "21 22 23 24 25 26 27\n",
      "28\n",
      "\n"
     ]
    }
   ],
   "source": [
    "#3.\tWrite a Python program to display calendar?\n",
    "import calendar\n",
    "year=int(input(\"enter a year\"))\n",
    "month=int(input(\"enter a month\"))\n",
    "print(calendar.month(year,month))"
   ]
  },
  {
   "cell_type": "code",
   "execution_count": 9,
   "id": "9fdbc255",
   "metadata": {},
   "outputs": [
    {
     "name": "stdout",
     "output_type": "stream",
     "text": [
      "enter the coefficient a6\n",
      "enter the coefficient b2\n",
      "enter the coefficient c2\n",
      "the final roots are (-0.16666666666666666+0.5527707983925666j),(-0.16666666666666666-0.5527707983925666j)\n"
     ]
    }
   ],
   "source": [
    "#4.\tWrite a Python program to solve quadratic equation?\n",
    "import cmath\n",
    "a=int(input(\"enter the coefficient a\"))\n",
    "b=int(input(\"enter the coefficient b\"))\n",
    "c=int(input(\"enter the coefficient c\"))\n",
    "d=(b**2)-(4*a*c)\n",
    "root1= (-b+cmath.sqrt(d))/(2*a)\n",
    "root2= (-b-cmath.sqrt(d))/(2*a)\n",
    "print(\"the final roots are {},{}\".format(root1,root2))"
   ]
  },
  {
   "cell_type": "code",
   "execution_count": 12,
   "id": "29470966",
   "metadata": {},
   "outputs": [
    {
     "name": "stdout",
     "output_type": "stream",
     "text": [
      "enter first number10\n",
      "enter second number15\n",
      "The swapped numbers are 15,10\n"
     ]
    }
   ],
   "source": [
    "#5.\tWrite a Python program to swap two variables without temp variable?\n",
    "num1=int(input(\"enter first number\"))\n",
    "num2=int(input(\"enter second number\"))\n",
    "num1=num1+num2\n",
    "num2=num1-num2\n",
    "num1=num1-num2\n",
    "print(\"The swapped numbers are {},{}\".format(num1,num2))"
   ]
  },
  {
   "cell_type": "code",
   "execution_count": null,
   "id": "f7321fbb",
   "metadata": {},
   "outputs": [],
   "source": []
  },
  {
   "cell_type": "code",
   "execution_count": null,
   "id": "9251403f",
   "metadata": {},
   "outputs": [],
   "source": []
  },
  {
   "cell_type": "code",
   "execution_count": null,
   "id": "861af71c",
   "metadata": {},
   "outputs": [],
   "source": [
    "\n",
    "\n"
   ]
  }
 ],
 "metadata": {
  "kernelspec": {
   "display_name": "Python 3",
   "language": "python",
   "name": "python3"
  },
  "language_info": {
   "codemirror_mode": {
    "name": "ipython",
    "version": 3
   },
   "file_extension": ".py",
   "mimetype": "text/x-python",
   "name": "python",
   "nbconvert_exporter": "python",
   "pygments_lexer": "ipython3",
   "version": "3.8.8"
  }
 },
 "nbformat": 4,
 "nbformat_minor": 5
}
