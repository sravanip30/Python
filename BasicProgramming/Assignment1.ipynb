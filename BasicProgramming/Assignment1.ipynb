{
 "cells": [
  {
   "cell_type": "code",
   "execution_count": 1,
   "id": "e12de12b",
   "metadata": {},
   "outputs": [
    {
     "name": "stdout",
     "output_type": "stream",
     "text": [
      "Hello Python\n"
     ]
    }
   ],
   "source": [
    "#1.\tWrite a Python program to print \"Hello Python\"?\n",
    "print(\"Hello Python\")"
   ]
  },
  {
   "cell_type": "code",
   "execution_count": 10,
   "id": "2f127e65",
   "metadata": {},
   "outputs": [
    {
     "name": "stdout",
     "output_type": "stream",
     "text": [
      "Enter\n",
      "1 for addition,\n",
      "2 for division\n",
      "33\n",
      "enter first number1\n",
      "enter second number2\n",
      "Not a valid operand\n"
     ]
    }
   ],
   "source": [
    "#2.\tWrite a Python program to do arithmetical operations addition and division.?\n",
    "\n",
    "operation_type=input(\"\"\"Enter\n",
    "1 for addition,\n",
    "2 for division\n",
    "\"\"\")\n",
    "num1=int(input(\"enter first number\"))\n",
    "num2=int(input(\"enter second number\"))\n",
    "result=0\n",
    "if (operation_type == '1'):\n",
    "    result=num1+num2\n",
    "    print(\"The sum is\",result)\n",
    "elif (operation_type == '2'):\n",
    "    result=num1/num2\n",
    "    print(\"The result of division is\",result)\n",
    "else:\n",
    "    print(\"Not a valid operand\")"
   ]
  },
  {
   "cell_type": "code",
   "execution_count": 12,
   "id": "c006c003",
   "metadata": {},
   "outputs": [
    {
     "name": "stdout",
     "output_type": "stream",
     "text": [
      "enter the base of the triangle2\n",
      "enter the height of the triangle2\n",
      "The area of the triangle is 2.0\n"
     ]
    }
   ],
   "source": [
    "#3.\tWrite a Python program to find the area of a triangle?\n",
    "base=int(input(\"enter the base of the triangle\"))\n",
    "height=int(input(\"enter the height of the triangle\"))\n",
    "area=0.5*base*height\n",
    "print(\"The area of the triangle is\", area)"
   ]
  },
  {
   "cell_type": "code",
   "execution_count": 23,
   "id": "934fa67e",
   "metadata": {},
   "outputs": [
    {
     "name": "stdout",
     "output_type": "stream",
     "text": [
      "enter first number10\n",
      "enter the second number15\n",
      "The swapped numbers are  15,10,\n"
     ]
    }
   ],
   "source": [
    "#4.\tWrite a Python program to swap two variables?\n",
    "num1=int(input(\"enter first number\"))\n",
    "num2=int(input(\"enter the second number\"))\n",
    "num1=num1+num2\n",
    "num2=num1-num2\n",
    "num1=num1-num2\n",
    "print(\"The swapped numbers are  {},{}\".format(num1,num2))"
   ]
  },
  {
   "cell_type": "code",
   "execution_count": 29,
   "id": "f4279652",
   "metadata": {},
   "outputs": [
    {
     "name": "stdout",
     "output_type": "stream",
     "text": [
      "0.0038864039896404634\n"
     ]
    }
   ],
   "source": [
    "#5.\tWrite a Python program to generate a random number?\n",
    "import random\n",
    "print(random.random())"
   ]
  },
  {
   "cell_type": "code",
   "execution_count": null,
   "id": "3825dfea",
   "metadata": {},
   "outputs": [],
   "source": []
  },
  {
   "cell_type": "code",
   "execution_count": null,
   "id": "62438f5c",
   "metadata": {},
   "outputs": [],
   "source": []
  }
 ],
 "metadata": {
  "kernelspec": {
   "display_name": "Python 3",
   "language": "python",
   "name": "python3"
  },
  "language_info": {
   "codemirror_mode": {
    "name": "ipython",
    "version": 3
   },
   "file_extension": ".py",
   "mimetype": "text/x-python",
   "name": "python",
   "nbconvert_exporter": "python",
   "pygments_lexer": "ipython3",
   "version": "3.8.8"
  }
 },
 "nbformat": 4,
 "nbformat_minor": 5
}
